{
 "cells": [
  {
   "cell_type": "code",
   "execution_count": 1,
   "metadata": {
    "collapsed": false
   },
   "outputs": [
    {
     "name": "stdout",
     "output_type": "stream",
     "text": [
      "Source and citation\n",
      "\n",
      "- This notebook is a part of the `pytheos` package.\n",
      "- Website: http://github.com/SHDShim/pytheos.\n",
      "- How to cite: S.-H. Shim (2017) Pytheos - a python tool set for equations of state. DOI: 10.5281/zenodo.802392\n"
     ]
    }
   ],
   "source": [
    "%cat 0Source_Citation.txt"
   ]
  },
  {
   "cell_type": "code",
   "execution_count": 2,
   "metadata": {
    "collapsed": true
   },
   "outputs": [],
   "source": [
    "%matplotlib inline\n",
    "# %matplotlib notebook # for interactive"
   ]
  },
  {
   "cell_type": "markdown",
   "metadata": {},
   "source": [
    "For high dpi displays."
   ]
  },
  {
   "cell_type": "code",
   "execution_count": 3,
   "metadata": {
    "collapsed": true
   },
   "outputs": [],
   "source": [
    "%config InlineBackend.figure_format = 'retina'"
   ]
  },
  {
   "cell_type": "markdown",
   "metadata": {},
   "source": [
    "# 0. General note"
   ]
  },
  {
   "cell_type": "markdown",
   "metadata": {},
   "source": [
    "- This notebook shows the magnitude of different non-static pressure terms in the EOS of platinum by Dorogokupets and Dewaele (2007, HPR)."
   ]
  },
  {
   "cell_type": "markdown",
   "metadata": {},
   "source": [
    "# 1. General setup"
   ]
  },
  {
   "cell_type": "code",
   "execution_count": 4,
   "metadata": {
    "collapsed": true
   },
   "outputs": [],
   "source": [
    "import uncertainties as uct\n",
    "import numpy as np\n",
    "import matplotlib.pyplot as plt\n",
    "from uncertainties import unumpy as unp\n",
    "import pytheos as eos"
   ]
  },
  {
   "cell_type": "code",
   "execution_count": 5,
   "metadata": {
    "collapsed": true
   },
   "outputs": [],
   "source": [
    "v0 = 3.9231**3\n",
    "v = np.linspace(v0, v0 * 0.8, 20)"
   ]
  },
  {
   "cell_type": "markdown",
   "metadata": {},
   "source": [
    "# 2. Calculate thermal pressure"
   ]
  },
  {
   "cell_type": "code",
   "execution_count": 6,
   "metadata": {
    "collapsed": true
   },
   "outputs": [],
   "source": [
    "p_th = eos.dorogokupets2007_pth(v, 2000., v0, 2.82, 1.83, 8.11, 220., 1, 4)"
   ]
  },
  {
   "cell_type": "markdown",
   "metadata": {},
   "source": [
    "# 3. Calculate pressure from anharmonicity"
   ]
  },
  {
   "cell_type": "code",
   "execution_count": 7,
   "metadata": {
    "collapsed": false
   },
   "outputs": [
    {
     "name": "stdout",
     "output_type": "stream",
     "text": [
      "Help on function zharkov_panh in module pytheos.eqn_anharmonic:\n",
      "\n",
      "zharkov_panh(v, temp, v0, a0, m, n, z, t_ref=300.0, three_r=24.943379399999998)\n",
      "    calculate pressure from anharmonicity for Zharkov equation\n",
      "    the equation is from Dorogokupets 2015\n",
      "    \n",
      "    :param v: unit-cell volume in A^3\n",
      "    :param temp: temperature in K\n",
      "    :param v0: unit-cell volume in A^3 at 1 bar\n",
      "    :param a0: parameter in K-1 for the Zharkov equation\n",
      "    :param m: parameter for the Zharkov equation\n",
      "    :param n: number of elements in a chemical formula\n",
      "    :param z: number of formula unit in a unit cell\n",
      "    :param three_r: 3 times gas constant\n",
      "    :return: anharmonic contribution for pressure in GPa\n",
      "\n"
     ]
    }
   ],
   "source": [
    "help(eos.zharkov_panh)"
   ]
  },
  {
   "cell_type": "code",
   "execution_count": 8,
   "metadata": {
    "collapsed": true
   },
   "outputs": [],
   "source": [
    "p_anh = eos.zharkov_panh(v, 2000., v0, -166.9e-6, 4.32, 1, 4)"
   ]
  },
  {
   "cell_type": "markdown",
   "metadata": {},
   "source": [
    "# 4. Calculate pressure from electronic effects"
   ]
  },
  {
   "cell_type": "code",
   "execution_count": 9,
   "metadata": {
    "collapsed": false
   },
   "outputs": [
    {
     "name": "stdout",
     "output_type": "stream",
     "text": [
      "Help on function zharkov_pel in module pytheos.eqn_electronic:\n",
      "\n",
      "zharkov_pel(v, temp, v0, e0, g, n, z, t_ref=300.0, three_r=24.943379399999998)\n",
      "    calculate electronic contributions in pressure for the Zharkov equation\n",
      "    the equation can be found in Sokolova and Dorogokupets 2013\n",
      "    \n",
      "    :param v: unit-cell volume in A^3\n",
      "    :param temp: temperature in K\n",
      "    :param v0: unit-cell volume in A^3 at 1 bar\n",
      "    :param e0: parameter in K-1 for the Zharkov equation\n",
      "    :param g: parameter for the Zharkov equation\n",
      "    :param n: number of atoms in a formula unit\n",
      "    :param z: number of formula unit in a unit cell\n",
      "    :param t_ref: reference temperature, 300 K\n",
      "    :param three_r: 3 times gas constant\n",
      "    :return: electronic contribution in GPa\n",
      "\n"
     ]
    }
   ],
   "source": [
    "help(eos.zharkov_pel)"
   ]
  },
  {
   "cell_type": "code",
   "execution_count": 10,
   "metadata": {
    "collapsed": true
   },
   "outputs": [],
   "source": [
    "p_el = eos.zharkov_pel(v, 2000., v0, 260.e-6, 2.4, 1, 4)"
   ]
  },
  {
   "cell_type": "markdown",
   "metadata": {},
   "source": [
    "# 5. Plot with respect to volume"
   ]
  },
  {
   "cell_type": "code",
   "execution_count": 11,
   "metadata": {
    "collapsed": false
   },
   "outputs": [
    {
     "data": {
      "image/png": "[encoded data removed]",
      "text/plain": [
       "<Figure size 432x288 with 1 Axes>"
      ]
     },
     "metadata": {
      "image/png": {
       "height": 244,
       "width": 372
      }
     },
     "output_type": "display_data"
    }
   ],
   "source": [
    "plt.plot(v, p_th, label='$P_{th}$')\n",
    "plt.plot(v, p_el, label='$P_{el}$')\n",
    "plt.plot(v, p_anh, label='$P_{anh}$')\n",
    "plt.legend();"
   ]
  },
  {
   "cell_type": "markdown",
   "metadata": {},
   "source": [
    "# 5. Plot with respect to pressure"
   ]
  },
  {
   "cell_type": "markdown",
   "metadata": {},
   "source": [
    "We call the built-in dorogokupets2007 scale in `pytheos`."
   ]
  },
  {
   "cell_type": "code",
   "execution_count": 12,
   "metadata": {
    "collapsed": true
   },
   "outputs": [],
   "source": [
    "dorogokupets2007_pt = eos.platinum.Dorogokupets2007()"
   ]
  },
  {
   "cell_type": "code",
   "execution_count": 13,
   "metadata": {
    "collapsed": false
   },
   "outputs": [
    {
     "name": "stdout",
     "output_type": "stream",
     "text": [
      "Help on Dorogokupets2007 in module pytheos.scales.platinum object:\n",
      "\n",
      "class Dorogokupets2007(pytheos.scales.objs.MGEOS)\n",
      " |  Dorogokupets and Dewaele. 2007. HPR 27, 431+\n",
      " |  \n",
      " |  Method resolution order:\n",
      " |      Dorogokupets2007\n",
      " |      pytheos.scales.objs.MGEOS\n",
      " |      builtins.object\n",
      " |  \n",
      " |  Methods defined here:\n",
      " |  \n",
      " |  __init__(self, v0=60.37930856339099)\n",
      " |      :param params_st: elastic parameters for static EOS in an OrderedDict\n",
      " |          [v0 in A^3, k0 in GPa, k0p]\n",
      " |      :param params_th: thermal parameters for thermal EOS in an OrderedDict.\n",
      " |          The component can differ depending on the equation used.\n",
      " |      :param params_anh: anharmonic parameters for anharmonic correction in\n",
      " |          an OrderedDict.  The component can differ depending on the\n",
      " |          equation used.\n",
      " |      :param params_el: electronic parameters for electronic correction in\n",
      " |          an OrderedDict. The component can differ depending on the\n",
      " |          equation used.\n",
      " |      :param eqn_st: equation type for the static EOS. 'bm3', 'vinet', or\n",
      " |          'kunc'\n",
      " |      :param eqn_th: equation type for the thermal EOS. 'constq', 'tange',\n",
      " |          'speziale', 'dorogokupets2007', 'dorogokupets2015', 'alphakt'\n",
      " |      :param eqn_anh: equation type for anharmonic correction. 'zharkov',\n",
      " |      :param eqn_el: equation type for electonic correction. 'zharkov',\n",
      " |          'tsuchiya'\n",
      " |      :param t_ref: reference temperature, 300 K\n",
      " |      :param three_r: 3 times gas constant.\n",
      " |          Jamieson modified this value to compensate for mismatches\n",
      " |      :param reference: reference for the EOS\n",
      " |  \n",
      " |  ----------------------------------------------------------------------\n",
      " |  Methods inherited from pytheos.scales.objs.MGEOS:\n",
      " |  \n",
      " |  cal_p(self, v, temp)\n",
      " |      calculate total pressure at given volume and temperature\n",
      " |      \n",
      " |      :param v: unit-cell volume in A^3\n",
      " |      :param temp: temperature in K\n",
      " |      :return: pressure in GPa\n",
      " |      :note: 2017/05/10 temp must be numpy array.  If not, such as list,\n",
      " |          create an error.\n",
      " |  \n",
      " |  cal_panh(self, v, temp)\n",
      " |      calculate pressure from anharmonic contributions\n",
      " |      \n",
      " |      :param v: unit-cell volume in A^3\n",
      " |      :param temp: temperature in K\n",
      " |      :return: pressure in GPa\n",
      " |  \n",
      " |  cal_pel(self, v, temp)\n",
      " |      calculate pressure from electronic contributions\n",
      " |      \n",
      " |      :param v: unit-cell volume in A^3\n",
      " |      :param temp: temperature in K\n",
      " |      :return: pressure in GPa\n",
      " |  \n",
      " |  cal_pst(self, v)\n",
      " |      calculate static pressure at 300 K.\n",
      " |      \n",
      " |      :param v: unit-cell volume in A^3\n",
      " |      :return: static pressure at t_ref (=300 K) in GPa\n",
      " |  \n",
      " |  cal_pth(self, v, temp)\n",
      " |      calculate thermal pressure\n",
      " |      \n",
      " |      :param v: unit-cell volume in A^3\n",
      " |      :param temp: temperature in K\n",
      " |      :return: thermal pressure in GPa\n",
      " |  \n",
      " |  cal_v(self, p, temp, min_strain=0.2, max_strain=1.0)\n",
      " |      calculate unit-cell volume at given pressure and temperature\n",
      " |      \n",
      " |      :param p: pressure in GPa\n",
      " |      :param temp: temperature in K\n",
      " |      :param min_strain: minimum strain searched for volume root\n",
      " |      :param max_strain: maximum strain searched for volume root\n",
      " |      :return: unit-cell volume in A^3\n",
      " |      :note: 2017/05/10 I found wrap function is not compatible with\n",
      " |          OrderedDict. So I convert unp array to np array.\n",
      " |  \n",
      " |  print_equations(self)\n",
      " |      show equations used for the EOS\n",
      " |  \n",
      " |  print_parameters(self)\n",
      " |      show thermoelastic parameters for the EOS\n",
      " |  \n",
      " |  print_reference(self)\n",
      " |      show reference for the EOS\n",
      " |  \n",
      " |  ----------------------------------------------------------------------\n",
      " |  Data descriptors inherited from pytheos.scales.objs.MGEOS:\n",
      " |  \n",
      " |  __dict__\n",
      " |      dictionary for instance variables (if defined)\n",
      " |  \n",
      " |  __weakref__\n",
      " |      list of weak references to the object (if defined)\n",
      "\n"
     ]
    }
   ],
   "source": [
    "help(dorogokupets2007_pt)"
   ]
  },
  {
   "cell_type": "code",
   "execution_count": 14,
   "metadata": {
    "collapsed": true
   },
   "outputs": [],
   "source": [
    "p = dorogokupets2007_pt.cal_p(v, 2000.)"
   ]
  },
  {
   "cell_type": "code",
   "execution_count": 15,
   "metadata": {
    "collapsed": false
   },
   "outputs": [
    {
     "data": {
      "image/png": "[encoded data removed]",
      "text/plain": [
       "<Figure size 432x288 with 1 Axes>"
      ]
     },
     "metadata": {
      "image/png": {
       "height": 244,
       "width": 372
      }
     },
     "output_type": "display_data"
    }
   ],
   "source": [
    "plt.plot(unp.nominal_values(p), p_th, label='$P_{th}$')\n",
    "plt.plot(unp.nominal_values(p), p_el, label='$P_{el}$')\n",
    "plt.plot(unp.nominal_values(p), p_anh, label='$P_{anh}$')\n",
    "plt.legend();"
   ]
  },
  {
   "cell_type": "code",
   "execution_count": null,
   "metadata": {
    "collapsed": true
   },
   "outputs": [],
   "source": []
  }
 ],
 "metadata": {
  "anaconda-cloud": {},
  "kernelspec": {
   "display_name": "Python 3",
   "language": "python",
   "name": "python3"
  },
  "language_info": {
   "codemirror_mode": {
    "name": "ipython",
    "version": 3
   },
   "file_extension": ".py",
   "mimetype": "text/x-python",
   "name": "python",
   "nbconvert_exporter": "python",
   "pygments_lexer": "ipython3",
   "version": "3.6.5"
  },
  "latex_envs": {
   "LaTeX_envs_menu_present": true,
   "autocomplete": true,
   "bibliofile": "biblio.bib",
   "cite_by": "apalike",
   "current_citInitial": 1,
   "eqLabelWithNumbers": true,
   "eqNumInitial": 1,
   "hotkeys": {
    "equation": "Ctrl-E",
    "itemize": "Ctrl-I"
   },
   "labels_anchors": false,
   "latex_user_defs": false,
   "report_style_numbering": false,
   "user_envs_cfg": false
  }
 },
 "nbformat": 4,
 "nbformat_minor": 2
}
