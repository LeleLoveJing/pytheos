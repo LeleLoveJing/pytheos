{
 "cells": [
  {
   "cell_type": "code",
   "execution_count": 1,
   "metadata": {
    "collapsed": true,
    "run_control": {
     "marked": true
    }
   },
   "outputs": [],
   "source": [
    "# %matplotlib inline\n",
    "%matplotlib ipympl \n",
    "# for interactive"
   ]
  },
  {
   "cell_type": "code",
   "execution_count": 2,
   "metadata": {
    "collapsed": true
   },
   "outputs": [],
   "source": [
    "%config InlineBackend.figure_format = 'retina'"
   ]
  },
  {
   "cell_type": "code",
   "execution_count": 3,
   "metadata": {
    "collapsed": false
   },
   "outputs": [
    {
     "name": "stdout",
     "output_type": "stream",
     "text": [
      "Source and citation\n",
      "\n",
      "- This notebook is a part of the `pytheos` package.\n",
      "- Website: http://github.com/SHDShim/pytheos.\n",
      "- How to cite: S.-H. Shim (2017) Pytheos - a python tool set for equations of state. DOI: 10.5281/zenodo.802392\n"
     ]
    }
   ],
   "source": [
    "%cat 0Source_Citation.txt"
   ]
  },
  {
   "cell_type": "markdown",
   "metadata": {},
   "source": [
    "For high dpi displays."
   ]
  },
  {
   "cell_type": "markdown",
   "metadata": {},
   "source": [
    "# 0. General note"
   ]
  },
  {
   "cell_type": "markdown",
   "metadata": {},
   "source": [
    "- This notebook shows how to propagate uncertainties to obtain reasonable error bars for pressure.\n",
    "- We use MgO as an example."
   ]
  },
  {
   "cell_type": "markdown",
   "metadata": {},
   "source": [
    "# 1. General setup"
   ]
  },
  {
   "cell_type": "code",
   "execution_count": 20,
   "metadata": {
    "collapsed": false
   },
   "outputs": [],
   "source": [
    "import numpy as np\n",
    "import matplotlib.pyplot as plt\n",
    "import uncertainties as uct\n",
    "from uncertainties import unumpy as unp\n",
    "import pandas as pd\n",
    "import pytheos as eos"
   ]
  },
  {
   "cell_type": "markdown",
   "metadata": {},
   "source": [
    "# 2. Assign uncertainties to the EOS parameters"
   ]
  },
  {
   "cell_type": "markdown",
   "metadata": {},
   "source": [
    "Uncertainties of parameters can be defined using the `uncertainties` package.  The parameter values used in this example are just for demonstration purpose.  For more accurate values, please refer to the recent literature."
   ]
  },
  {
   "cell_type": "code",
   "execution_count": 21,
   "metadata": {
    "collapsed": true
   },
   "outputs": [],
   "source": [
    "v0 = uct.ufloat(74.698, 0.004)\n",
    "k0 = uct.ufloat(160., 3.)\n",
    "k0p = uct.ufloat(4.0, 0.3)"
   ]
  },
  {
   "cell_type": "markdown",
   "metadata": {},
   "source": [
    "We make a `numpy` array for volume at high pressure."
   ]
  },
  {
   "cell_type": "code",
   "execution_count": 22,
   "metadata": {
    "collapsed": true
   },
   "outputs": [],
   "source": [
    "n_pts = 20 \n",
    "vv0 = np.linspace(1.,0.8, n_pts)\n",
    "v = vv0 * v0"
   ]
  },
  {
   "cell_type": "markdown",
   "metadata": {},
   "source": [
    "Calculate pressure from `pytheos`."
   ]
  },
  {
   "cell_type": "code",
   "execution_count": 23,
   "metadata": {
    "collapsed": true
   },
   "outputs": [],
   "source": [
    "p = eos.bm3_p(v, v0, k0, k0p)"
   ]
  },
  {
   "cell_type": "markdown",
   "metadata": {},
   "source": [
    "### How to get help"
   ]
  },
  {
   "cell_type": "markdown",
   "metadata": {},
   "source": [
    "You may get help by using `help(function_name)`."
   ]
  },
  {
   "cell_type": "code",
   "execution_count": 24,
   "metadata": {
    "collapsed": false,
    "scrolled": true
   },
   "outputs": [
    {
     "name": "stdout",
     "output_type": "stream",
     "text": [
      "Help on function bm3_p in module pytheos.eqn_bm3:\n",
      "\n",
      "bm3_p(v, v0, k0, k0p, p_ref=0.0)\n",
      "    calculate pressure from 3rd order Birch-Murnathan equation\n",
      "    \n",
      "    :param v: volume at different pressures\n",
      "    :param v0: volume at reference conditions\n",
      "    :param k0: bulk modulus at reference conditions\n",
      "    :param k0p: pressure derivative of bulk modulus at different conditions\n",
      "    :param p_ref: reference pressure (default = 0)\n",
      "    :return: pressure\n",
      "\n"
     ]
    }
   ],
   "source": [
    "help(eos.bm3_p)"
   ]
  },
  {
   "cell_type": "markdown",
   "metadata": {},
   "source": [
    "Now you can see that error bars for the EOS parameters are used in error propagation calculation for pressure value.  Note that the uncertainties in the EOS parameters are correctly applied for propagating uncertainties to both molar volume and pressure."
   ]
  },
  {
   "cell_type": "markdown",
   "metadata": {},
   "source": [
    "We use `pandas` to organize the data more effectively.  It also presents nice looking tables."
   ]
  },
  {
   "cell_type": "code",
   "execution_count": 26,
   "metadata": {
    "collapsed": false
   },
   "outputs": [
    {
     "data": {
      "text/html": [
       "<div>\n",
       "<style scoped>\n",
       "    .dataframe tbody tr th:only-of-type {\n",
       "        vertical-align: middle;\n",
       "    }\n",
       "\n",
       "    .dataframe tbody tr th {\n",
       "        vertical-align: top;\n",
       "    }\n",
       "\n",
       "    .dataframe thead th {\n",
       "        text-align: right;\n",
       "    }\n",
       "</style>\n",
       "<table border=\"1\" class=\"dataframe\">\n",
       "  <thead>\n",
       "    <tr style=\"text-align: right;\">\n",
       "      <th></th>\n",
       "      <th>unit-cell volume</th>\n",
       "      <th>pressure</th>\n",
       "    </tr>\n",
       "  </thead>\n",
       "  <tbody>\n",
       "    <tr>\n",
       "      <th>0</th>\n",
       "      <td>74.698+/-0.004</td>\n",
       "      <td>0.0+/-0</td>\n",
       "    </tr>\n",
       "    <tr>\n",
       "      <th>1</th>\n",
       "      <td>73.912+/-0.004</td>\n",
       "      <td>1.729+/-0.033</td>\n",
       "    </tr>\n",
       "    <tr>\n",
       "      <th>2</th>\n",
       "      <td>73.125+/-0.004</td>\n",
       "      <td>3.55+/-0.07</td>\n",
       "    </tr>\n",
       "    <tr>\n",
       "      <th>3</th>\n",
       "      <td>72.339+/-0.004</td>\n",
       "      <td>5.47+/-0.11</td>\n",
       "    </tr>\n",
       "    <tr>\n",
       "      <th>4</th>\n",
       "      <td>71.553+/-0.004</td>\n",
       "      <td>7.50+/-0.15</td>\n",
       "    </tr>\n",
       "    <tr>\n",
       "      <th>5</th>\n",
       "      <td>70.767+/-0.004</td>\n",
       "      <td>9.64+/-0.20</td>\n",
       "    </tr>\n",
       "    <tr>\n",
       "      <th>6</th>\n",
       "      <td>69.980+/-0.004</td>\n",
       "      <td>11.89+/-0.25</td>\n",
       "    </tr>\n",
       "    <tr>\n",
       "      <th>7</th>\n",
       "      <td>69.194+/-0.004</td>\n",
       "      <td>14.27+/-0.32</td>\n",
       "    </tr>\n",
       "    <tr>\n",
       "      <th>8</th>\n",
       "      <td>68.408+/-0.004</td>\n",
       "      <td>16.8+/-0.4</td>\n",
       "    </tr>\n",
       "    <tr>\n",
       "      <th>9</th>\n",
       "      <td>67.621+/-0.004</td>\n",
       "      <td>19.4+/-0.5</td>\n",
       "    </tr>\n",
       "    <tr>\n",
       "      <th>10</th>\n",
       "      <td>66.835+/-0.004</td>\n",
       "      <td>22.2+/-0.6</td>\n",
       "    </tr>\n",
       "    <tr>\n",
       "      <th>11</th>\n",
       "      <td>66.0488+/-0.0035</td>\n",
       "      <td>25.2+/-0.7</td>\n",
       "    </tr>\n",
       "    <tr>\n",
       "      <th>12</th>\n",
       "      <td>65.2625+/-0.0035</td>\n",
       "      <td>28.3+/-0.8</td>\n",
       "    </tr>\n",
       "    <tr>\n",
       "      <th>13</th>\n",
       "      <td>64.4762+/-0.0035</td>\n",
       "      <td>31.6+/-0.9</td>\n",
       "    </tr>\n",
       "    <tr>\n",
       "      <th>14</th>\n",
       "      <td>63.6899+/-0.0034</td>\n",
       "      <td>35.1+/-1.1</td>\n",
       "    </tr>\n",
       "    <tr>\n",
       "      <th>15</th>\n",
       "      <td>62.9036+/-0.0034</td>\n",
       "      <td>38.8+/-1.3</td>\n",
       "    </tr>\n",
       "    <tr>\n",
       "      <th>16</th>\n",
       "      <td>62.1173+/-0.0033</td>\n",
       "      <td>42.7+/-1.5</td>\n",
       "    </tr>\n",
       "    <tr>\n",
       "      <th>17</th>\n",
       "      <td>61.3310+/-0.0033</td>\n",
       "      <td>46.8+/-1.7</td>\n",
       "    </tr>\n",
       "    <tr>\n",
       "      <th>18</th>\n",
       "      <td>60.5447+/-0.0032</td>\n",
       "      <td>51.2+/-2.0</td>\n",
       "    </tr>\n",
       "    <tr>\n",
       "      <th>19</th>\n",
       "      <td>59.7584+/-0.0032</td>\n",
       "      <td>55.8+/-2.3</td>\n",
       "    </tr>\n",
       "  </tbody>\n",
       "</table>\n",
       "</div>"
      ],
      "text/plain": [
       "    unit-cell volume       pressure\n",
       "0     74.698+/-0.004        0.0+/-0\n",
       "1     73.912+/-0.004  1.729+/-0.033\n",
       "2     73.125+/-0.004    3.55+/-0.07\n",
       "3     72.339+/-0.004    5.47+/-0.11\n",
       "4     71.553+/-0.004    7.50+/-0.15\n",
       "5     70.767+/-0.004    9.64+/-0.20\n",
       "6     69.980+/-0.004   11.89+/-0.25\n",
       "7     69.194+/-0.004   14.27+/-0.32\n",
       "8     68.408+/-0.004     16.8+/-0.4\n",
       "9     67.621+/-0.004     19.4+/-0.5\n",
       "10    66.835+/-0.004     22.2+/-0.6\n",
       "11  66.0488+/-0.0035     25.2+/-0.7\n",
       "12  65.2625+/-0.0035     28.3+/-0.8\n",
       "13  64.4762+/-0.0035     31.6+/-0.9\n",
       "14  63.6899+/-0.0034     35.1+/-1.1\n",
       "15  62.9036+/-0.0034     38.8+/-1.3\n",
       "16  62.1173+/-0.0033     42.7+/-1.5\n",
       "17  61.3310+/-0.0033     46.8+/-1.7\n",
       "18  60.5447+/-0.0032     51.2+/-2.0\n",
       "19  59.7584+/-0.0032     55.8+/-2.3"
      ]
     },
     "execution_count": 26,
     "metadata": {},
     "output_type": "execute_result"
    }
   ],
   "source": [
    "df = pd.DataFrame()\n",
    "df['unit-cell volume'] = v\n",
    "df['pressure'] = p\n",
    "df\n",
    "#print(df.to_string(index=False)) # for fancier print"
   ]
  },
  {
   "cell_type": "markdown",
   "metadata": {},
   "source": [
    "Unfortunately to plot with `matplotlib`, you need to separate nominal values from standard deviation."
   ]
  },
  {
   "cell_type": "code",
   "execution_count": 27,
   "metadata": {
    "collapsed": false
   },
   "outputs": [
    {
     "data": {
      "application/vnd.jupyter.widget-view+json": {
       "model_id": "426d2b95b27744859ec416667ac2a84c",
       "version_major": 2,
       "version_minor": 0
      },
      "text/plain": [
       "FigureCanvasNbAgg()"
      ]
     },
     "metadata": {},
     "output_type": "display_data"
    }
   ],
   "source": [
    "f = plt.figure()\n",
    "plt.errorbar(unp.nominal_values(p), unp.nominal_values(v), fmt='ko', \\\n",
    "             xerr=unp.std_devs(p), yerr=unp.std_devs(v))\n",
    "plt.xlabel('Pressure (GPa)'); plt.ylabel('Unit-cell volume ($\\mathrm{\\AA}^3$)');"
   ]
  },
  {
   "cell_type": "markdown",
   "metadata": {},
   "source": [
    "# 3. Calculate volume from pressure using pytheos"
   ]
  },
  {
   "cell_type": "markdown",
   "metadata": {},
   "source": [
    "`Pytheos` provides functions to calculate volumes at given pressures with error propagation."
   ]
  },
  {
   "cell_type": "code",
   "execution_count": 28,
   "metadata": {
    "collapsed": true
   },
   "outputs": [],
   "source": [
    "v_cal = eos.bm3_v(p, v0, k0, k0p)"
   ]
  },
  {
   "cell_type": "code",
   "execution_count": 29,
   "metadata": {
    "collapsed": false
   },
   "outputs": [
    {
     "data": {
      "text/html": [
       "<div>\n",
       "<style scoped>\n",
       "    .dataframe tbody tr th:only-of-type {\n",
       "        vertical-align: middle;\n",
       "    }\n",
       "\n",
       "    .dataframe tbody tr th {\n",
       "        vertical-align: top;\n",
       "    }\n",
       "\n",
       "    .dataframe thead th {\n",
       "        text-align: right;\n",
       "    }\n",
       "</style>\n",
       "<table border=\"1\" class=\"dataframe\">\n",
       "  <thead>\n",
       "    <tr style=\"text-align: right;\">\n",
       "      <th></th>\n",
       "      <th>pressure</th>\n",
       "      <th>unit-cell volume</th>\n",
       "    </tr>\n",
       "  </thead>\n",
       "  <tbody>\n",
       "    <tr>\n",
       "      <th>0</th>\n",
       "      <td>0.0+/-0</td>\n",
       "      <td>74.698+/-0.004</td>\n",
       "    </tr>\n",
       "    <tr>\n",
       "      <th>1</th>\n",
       "      <td>1.729+/-0.033</td>\n",
       "      <td>73.912+/-0.004</td>\n",
       "    </tr>\n",
       "    <tr>\n",
       "      <th>2</th>\n",
       "      <td>3.55+/-0.07</td>\n",
       "      <td>73.125+/-0.004</td>\n",
       "    </tr>\n",
       "    <tr>\n",
       "      <th>3</th>\n",
       "      <td>5.47+/-0.11</td>\n",
       "      <td>72.339+/-0.004</td>\n",
       "    </tr>\n",
       "    <tr>\n",
       "      <th>4</th>\n",
       "      <td>7.50+/-0.15</td>\n",
       "      <td>71.553+/-0.004</td>\n",
       "    </tr>\n",
       "    <tr>\n",
       "      <th>5</th>\n",
       "      <td>9.64+/-0.20</td>\n",
       "      <td>70.767+/-0.004</td>\n",
       "    </tr>\n",
       "    <tr>\n",
       "      <th>6</th>\n",
       "      <td>11.89+/-0.25</td>\n",
       "      <td>69.980+/-0.004</td>\n",
       "    </tr>\n",
       "    <tr>\n",
       "      <th>7</th>\n",
       "      <td>14.27+/-0.32</td>\n",
       "      <td>69.194+/-0.004</td>\n",
       "    </tr>\n",
       "    <tr>\n",
       "      <th>8</th>\n",
       "      <td>16.8+/-0.4</td>\n",
       "      <td>68.408+/-0.004</td>\n",
       "    </tr>\n",
       "    <tr>\n",
       "      <th>9</th>\n",
       "      <td>19.4+/-0.5</td>\n",
       "      <td>67.621+/-0.004</td>\n",
       "    </tr>\n",
       "    <tr>\n",
       "      <th>10</th>\n",
       "      <td>22.2+/-0.6</td>\n",
       "      <td>66.835+/-0.004</td>\n",
       "    </tr>\n",
       "    <tr>\n",
       "      <th>11</th>\n",
       "      <td>25.2+/-0.7</td>\n",
       "      <td>66.0488+/-0.0035</td>\n",
       "    </tr>\n",
       "    <tr>\n",
       "      <th>12</th>\n",
       "      <td>28.3+/-0.8</td>\n",
       "      <td>65.2625+/-0.0035</td>\n",
       "    </tr>\n",
       "    <tr>\n",
       "      <th>13</th>\n",
       "      <td>31.6+/-0.9</td>\n",
       "      <td>64.4762+/-0.0035</td>\n",
       "    </tr>\n",
       "    <tr>\n",
       "      <th>14</th>\n",
       "      <td>35.1+/-1.1</td>\n",
       "      <td>63.6899+/-0.0034</td>\n",
       "    </tr>\n",
       "    <tr>\n",
       "      <th>15</th>\n",
       "      <td>38.8+/-1.3</td>\n",
       "      <td>62.9036+/-0.0034</td>\n",
       "    </tr>\n",
       "    <tr>\n",
       "      <th>16</th>\n",
       "      <td>42.7+/-1.5</td>\n",
       "      <td>62.1173+/-0.0033</td>\n",
       "    </tr>\n",
       "    <tr>\n",
       "      <th>17</th>\n",
       "      <td>46.8+/-1.7</td>\n",
       "      <td>61.3310+/-0.0033</td>\n",
       "    </tr>\n",
       "    <tr>\n",
       "      <th>18</th>\n",
       "      <td>51.2+/-2.0</td>\n",
       "      <td>60.5447+/-0.0032</td>\n",
       "    </tr>\n",
       "    <tr>\n",
       "      <th>19</th>\n",
       "      <td>55.8+/-2.3</td>\n",
       "      <td>59.7584+/-0.0032</td>\n",
       "    </tr>\n",
       "  </tbody>\n",
       "</table>\n",
       "</div>"
      ],
      "text/plain": [
       "         pressure  unit-cell volume\n",
       "0         0.0+/-0    74.698+/-0.004\n",
       "1   1.729+/-0.033    73.912+/-0.004\n",
       "2     3.55+/-0.07    73.125+/-0.004\n",
       "3     5.47+/-0.11    72.339+/-0.004\n",
       "4     7.50+/-0.15    71.553+/-0.004\n",
       "5     9.64+/-0.20    70.767+/-0.004\n",
       "6    11.89+/-0.25    69.980+/-0.004\n",
       "7    14.27+/-0.32    69.194+/-0.004\n",
       "8      16.8+/-0.4    68.408+/-0.004\n",
       "9      19.4+/-0.5    67.621+/-0.004\n",
       "10     22.2+/-0.6    66.835+/-0.004\n",
       "11     25.2+/-0.7  66.0488+/-0.0035\n",
       "12     28.3+/-0.8  65.2625+/-0.0035\n",
       "13     31.6+/-0.9  64.4762+/-0.0035\n",
       "14     35.1+/-1.1  63.6899+/-0.0034\n",
       "15     38.8+/-1.3  62.9036+/-0.0034\n",
       "16     42.7+/-1.5  62.1173+/-0.0033\n",
       "17     46.8+/-1.7  61.3310+/-0.0033\n",
       "18     51.2+/-2.0  60.5447+/-0.0032\n",
       "19     55.8+/-2.3  59.7584+/-0.0032"
      ]
     },
     "execution_count": 29,
     "metadata": {},
     "output_type": "execute_result"
    }
   ],
   "source": [
    "df = pd.DataFrame()\n",
    "df['pressure'] = p\n",
    "df['unit-cell volume'] = v_cal\n",
    "df\n",
    "# print(df.to_string(index=False))"
   ]
  },
  {
   "cell_type": "markdown",
   "metadata": {},
   "source": [
    "Compare this table with the one we showed above for accuracy check."
   ]
  },
  {
   "cell_type": "markdown",
   "metadata": {},
   "source": [
    "# 4. Bulk modulus at high pressure"
   ]
  },
  {
   "cell_type": "markdown",
   "metadata": {},
   "source": [
    "You can also propagate uncertainties in bulk modulus calculation."
   ]
  },
  {
   "cell_type": "code",
   "execution_count": 30,
   "metadata": {
    "collapsed": true
   },
   "outputs": [],
   "source": [
    "k = eos.bm3_k(p, v0, k0, k0p)"
   ]
  },
  {
   "cell_type": "code",
   "execution_count": 31,
   "metadata": {
    "collapsed": false
   },
   "outputs": [
    {
     "data": {
      "text/html": [
       "<div>\n",
       "<style scoped>\n",
       "    .dataframe tbody tr th:only-of-type {\n",
       "        vertical-align: middle;\n",
       "    }\n",
       "\n",
       "    .dataframe tbody tr th {\n",
       "        vertical-align: top;\n",
       "    }\n",
       "\n",
       "    .dataframe thead th {\n",
       "        text-align: right;\n",
       "    }\n",
       "</style>\n",
       "<table border=\"1\" class=\"dataframe\">\n",
       "  <thead>\n",
       "    <tr style=\"text-align: right;\">\n",
       "      <th></th>\n",
       "      <th>pressure</th>\n",
       "      <th>bulk modulus</th>\n",
       "    </tr>\n",
       "  </thead>\n",
       "  <tbody>\n",
       "    <tr>\n",
       "      <th>0</th>\n",
       "      <td>0.0+/-0</td>\n",
       "      <td>160.0+/-3.0</td>\n",
       "    </tr>\n",
       "    <tr>\n",
       "      <th>1</th>\n",
       "      <td>1.729+/-0.033</td>\n",
       "      <td>166.9+/-3.2</td>\n",
       "    </tr>\n",
       "    <tr>\n",
       "      <th>2</th>\n",
       "      <td>3.55+/-0.07</td>\n",
       "      <td>174.1+/-3.4</td>\n",
       "    </tr>\n",
       "    <tr>\n",
       "      <th>3</th>\n",
       "      <td>5.47+/-0.11</td>\n",
       "      <td>182+/-4</td>\n",
       "    </tr>\n",
       "    <tr>\n",
       "      <th>4</th>\n",
       "      <td>7.50+/-0.15</td>\n",
       "      <td>189+/-4</td>\n",
       "    </tr>\n",
       "    <tr>\n",
       "      <th>5</th>\n",
       "      <td>9.64+/-0.20</td>\n",
       "      <td>198+/-5</td>\n",
       "    </tr>\n",
       "    <tr>\n",
       "      <th>6</th>\n",
       "      <td>11.89+/-0.25</td>\n",
       "      <td>206+/-6</td>\n",
       "    </tr>\n",
       "    <tr>\n",
       "      <th>7</th>\n",
       "      <td>14.27+/-0.32</td>\n",
       "      <td>215+/-6</td>\n",
       "    </tr>\n",
       "    <tr>\n",
       "      <th>8</th>\n",
       "      <td>16.8+/-0.4</td>\n",
       "      <td>224+/-7</td>\n",
       "    </tr>\n",
       "    <tr>\n",
       "      <th>9</th>\n",
       "      <td>19.4+/-0.5</td>\n",
       "      <td>234+/-8</td>\n",
       "    </tr>\n",
       "    <tr>\n",
       "      <th>10</th>\n",
       "      <td>22.2+/-0.6</td>\n",
       "      <td>244+/-9</td>\n",
       "    </tr>\n",
       "    <tr>\n",
       "      <th>11</th>\n",
       "      <td>25.2+/-0.7</td>\n",
       "      <td>255+/-10</td>\n",
       "    </tr>\n",
       "    <tr>\n",
       "      <th>12</th>\n",
       "      <td>28.3+/-0.8</td>\n",
       "      <td>266+/-11</td>\n",
       "    </tr>\n",
       "    <tr>\n",
       "      <th>13</th>\n",
       "      <td>31.6+/-0.9</td>\n",
       "      <td>278+/-13</td>\n",
       "    </tr>\n",
       "    <tr>\n",
       "      <th>14</th>\n",
       "      <td>35.1+/-1.1</td>\n",
       "      <td>291+/-14</td>\n",
       "    </tr>\n",
       "    <tr>\n",
       "      <th>15</th>\n",
       "      <td>38.8+/-1.3</td>\n",
       "      <td>304+/-16</td>\n",
       "    </tr>\n",
       "    <tr>\n",
       "      <th>16</th>\n",
       "      <td>42.7+/-1.5</td>\n",
       "      <td>317+/-18</td>\n",
       "    </tr>\n",
       "    <tr>\n",
       "      <th>17</th>\n",
       "      <td>46.8+/-1.7</td>\n",
       "      <td>332+/-20</td>\n",
       "    </tr>\n",
       "    <tr>\n",
       "      <th>18</th>\n",
       "      <td>51.2+/-2.0</td>\n",
       "      <td>347+/-22</td>\n",
       "    </tr>\n",
       "    <tr>\n",
       "      <th>19</th>\n",
       "      <td>55.8+/-2.3</td>\n",
       "      <td>362+/-24</td>\n",
       "    </tr>\n",
       "  </tbody>\n",
       "</table>\n",
       "</div>"
      ],
      "text/plain": [
       "         pressure bulk modulus\n",
       "0         0.0+/-0  160.0+/-3.0\n",
       "1   1.729+/-0.033  166.9+/-3.2\n",
       "2     3.55+/-0.07  174.1+/-3.4\n",
       "3     5.47+/-0.11      182+/-4\n",
       "4     7.50+/-0.15      189+/-4\n",
       "5     9.64+/-0.20      198+/-5\n",
       "6    11.89+/-0.25      206+/-6\n",
       "7    14.27+/-0.32      215+/-6\n",
       "8      16.8+/-0.4      224+/-7\n",
       "9      19.4+/-0.5      234+/-8\n",
       "10     22.2+/-0.6      244+/-9\n",
       "11     25.2+/-0.7     255+/-10\n",
       "12     28.3+/-0.8     266+/-11\n",
       "13     31.6+/-0.9     278+/-13\n",
       "14     35.1+/-1.1     291+/-14\n",
       "15     38.8+/-1.3     304+/-16\n",
       "16     42.7+/-1.5     317+/-18\n",
       "17     46.8+/-1.7     332+/-20\n",
       "18     51.2+/-2.0     347+/-22\n",
       "19     55.8+/-2.3     362+/-24"
      ]
     },
     "execution_count": 31,
     "metadata": {},
     "output_type": "execute_result"
    }
   ],
   "source": [
    "df = pd.DataFrame()\n",
    "df['pressure'] = p\n",
    "df['bulk modulus'] = k\n",
    "df\n",
    "#print(df.to_string(index=False))"
   ]
  },
  {
   "cell_type": "code",
   "execution_count": 32,
   "metadata": {
    "collapsed": false
   },
   "outputs": [
    {
     "data": {
      "application/vnd.jupyter.widget-view+json": {
       "model_id": "c817d03eea724821bb535e27ef21f157",
       "version_major": 2,
       "version_minor": 0
      },
      "text/plain": [
       "FigureCanvasNbAgg()"
      ]
     },
     "metadata": {},
     "output_type": "display_data"
    }
   ],
   "source": [
    "f = plt.figure()\n",
    "plt.errorbar( unp.nominal_values(p), unp.nominal_values(k), \\\n",
    "             xerr=unp.std_devs(p), yerr=unp.std_devs(k), fmt='o')\n",
    "plt.xlabel('Pressure (GPa)'); plt.ylabel('Bulk modulus (GPa)');"
   ]
  },
  {
   "cell_type": "markdown",
   "metadata": {},
   "source": [
    "# 5. High temperature equation of state"
   ]
  },
  {
   "cell_type": "markdown",
   "metadata": {},
   "source": [
    "The constant $q$ assumption has been used widely for the thermal part of the mantle phases.  Below, we assign uncertainties to the thermal parameters of MgO."
   ]
  },
  {
   "cell_type": "code",
   "execution_count": 33,
   "metadata": {
    "collapsed": true
   },
   "outputs": [],
   "source": [
    "gamma0 = uct.ufloat(1.45, 0.02)\n",
    "q = uct.ufloat(0.8, 0.3)\n",
    "theta0 = uct.ufloat(800., 0.)"
   ]
  },
  {
   "cell_type": "markdown",
   "metadata": {},
   "source": [
    "We will use `constq_pth` for calculating the thermal pressure part of the EOS.  Below, I demonstrate how to get help for the function."
   ]
  },
  {
   "cell_type": "code",
   "execution_count": 34,
   "metadata": {
    "collapsed": false
   },
   "outputs": [
    {
     "name": "stdout",
     "output_type": "stream",
     "text": [
      "Help on function constq_pth in module pytheos.eqn_therm_constq:\n",
      "\n",
      "constq_pth(v, temp, v0, gamma0, q, theta0, n, z, t_ref=300.0, three_r=24.943379399999998)\n",
      "    calculate thermal pressure for constant q\n",
      "    \n",
      "    :param v: unit-cell volume in A^3\n",
      "    :param temp: temperature\n",
      "    :param v0: unit-cell volume in A^3 at 1 bar\n",
      "    :param gamma0: Gruneisen parameter at 1 bar\n",
      "    :param q: logarithmic derivative of Gruneisen parameter\n",
      "    :param theta0: Debye temperature in K\n",
      "    :param n: number of atoms in a formula unit\n",
      "    :param z: number of formula unit in a unit cell\n",
      "    :param t_ref: reference temperature\n",
      "    :param three_r: 3R in case adjustment is needed\n",
      "    :return: thermal pressure in GPa\n",
      "\n"
     ]
    }
   ],
   "source": [
    "help(eos.constq_pth)"
   ]
  },
  {
   "cell_type": "markdown",
   "metadata": {},
   "source": [
    "We calculate total pressure at 2000 K below.  `eos.constq_pth` requires input of volume and temperature with the same number of elements.  For 2000-K isotherm, we generate a temperature array with 2000 for all elements."
   ]
  },
  {
   "cell_type": "code",
   "execution_count": 35,
   "metadata": {
    "collapsed": true
   },
   "outputs": [],
   "source": [
    "p_hT = eos.bm3_p(v, v0, k0, k0p) + \\\n",
    "    eos.constq_pth(v, np.ones_like(v)*2000., v0, gamma0, q, theta0, 2, 4)"
   ]
  },
  {
   "cell_type": "code",
   "execution_count": 36,
   "metadata": {
    "collapsed": false
   },
   "outputs": [
    {
     "data": {
      "text/html": [
       "<div>\n",
       "<style scoped>\n",
       "    .dataframe tbody tr th:only-of-type {\n",
       "        vertical-align: middle;\n",
       "    }\n",
       "\n",
       "    .dataframe tbody tr th {\n",
       "        vertical-align: top;\n",
       "    }\n",
       "\n",
       "    .dataframe thead th {\n",
       "        text-align: right;\n",
       "    }\n",
       "</style>\n",
       "<table border=\"1\" class=\"dataframe\">\n",
       "  <thead>\n",
       "    <tr style=\"text-align: right;\">\n",
       "      <th></th>\n",
       "      <th>unit-cell volume</th>\n",
       "      <th>pressure@300K</th>\n",
       "      <th>pressure@2000K</th>\n",
       "    </tr>\n",
       "  </thead>\n",
       "  <tbody>\n",
       "    <tr>\n",
       "      <th>0</th>\n",
       "      <td>74.698+/-0.004</td>\n",
       "      <td>0.0+/-0</td>\n",
       "      <td>10.40+/-0.14</td>\n",
       "    </tr>\n",
       "    <tr>\n",
       "      <th>1</th>\n",
       "      <td>73.912+/-0.004</td>\n",
       "      <td>1.729+/-0.033</td>\n",
       "      <td>12.14+/-0.15</td>\n",
       "    </tr>\n",
       "    <tr>\n",
       "      <th>2</th>\n",
       "      <td>73.125+/-0.004</td>\n",
       "      <td>3.55+/-0.07</td>\n",
       "      <td>13.97+/-0.17</td>\n",
       "    </tr>\n",
       "    <tr>\n",
       "      <th>3</th>\n",
       "      <td>72.339+/-0.004</td>\n",
       "      <td>5.47+/-0.11</td>\n",
       "      <td>15.90+/-0.20</td>\n",
       "    </tr>\n",
       "    <tr>\n",
       "      <th>4</th>\n",
       "      <td>71.553+/-0.004</td>\n",
       "      <td>7.50+/-0.15</td>\n",
       "      <td>17.93+/-0.25</td>\n",
       "    </tr>\n",
       "    <tr>\n",
       "      <th>5</th>\n",
       "      <td>70.767+/-0.004</td>\n",
       "      <td>9.64+/-0.20</td>\n",
       "      <td>20.07+/-0.30</td>\n",
       "    </tr>\n",
       "    <tr>\n",
       "      <th>6</th>\n",
       "      <td>69.980+/-0.004</td>\n",
       "      <td>11.89+/-0.25</td>\n",
       "      <td>22.34+/-0.35</td>\n",
       "    </tr>\n",
       "    <tr>\n",
       "      <th>7</th>\n",
       "      <td>69.194+/-0.004</td>\n",
       "      <td>14.27+/-0.32</td>\n",
       "      <td>24.7+/-0.4</td>\n",
       "    </tr>\n",
       "    <tr>\n",
       "      <th>8</th>\n",
       "      <td>68.408+/-0.004</td>\n",
       "      <td>16.8+/-0.4</td>\n",
       "      <td>27.2+/-0.5</td>\n",
       "    </tr>\n",
       "    <tr>\n",
       "      <th>9</th>\n",
       "      <td>67.621+/-0.004</td>\n",
       "      <td>19.4+/-0.5</td>\n",
       "      <td>29.9+/-0.6</td>\n",
       "    </tr>\n",
       "    <tr>\n",
       "      <th>10</th>\n",
       "      <td>66.835+/-0.004</td>\n",
       "      <td>22.2+/-0.6</td>\n",
       "      <td>32.7+/-0.7</td>\n",
       "    </tr>\n",
       "    <tr>\n",
       "      <th>11</th>\n",
       "      <td>66.0488+/-0.0035</td>\n",
       "      <td>25.2+/-0.7</td>\n",
       "      <td>35.7+/-0.8</td>\n",
       "    </tr>\n",
       "    <tr>\n",
       "      <th>12</th>\n",
       "      <td>65.2625+/-0.0035</td>\n",
       "      <td>28.3+/-0.8</td>\n",
       "      <td>38.8+/-0.9</td>\n",
       "    </tr>\n",
       "    <tr>\n",
       "      <th>13</th>\n",
       "      <td>64.4762+/-0.0035</td>\n",
       "      <td>31.6+/-0.9</td>\n",
       "      <td>42.1+/-1.1</td>\n",
       "    </tr>\n",
       "    <tr>\n",
       "      <th>14</th>\n",
       "      <td>63.6899+/-0.0034</td>\n",
       "      <td>35.1+/-1.1</td>\n",
       "      <td>45.6+/-1.2</td>\n",
       "    </tr>\n",
       "    <tr>\n",
       "      <th>15</th>\n",
       "      <td>62.9036+/-0.0034</td>\n",
       "      <td>38.8+/-1.3</td>\n",
       "      <td>49.3+/-1.4</td>\n",
       "    </tr>\n",
       "    <tr>\n",
       "      <th>16</th>\n",
       "      <td>62.1173+/-0.0033</td>\n",
       "      <td>42.7+/-1.5</td>\n",
       "      <td>53.2+/-1.6</td>\n",
       "    </tr>\n",
       "    <tr>\n",
       "      <th>17</th>\n",
       "      <td>61.3310+/-0.0033</td>\n",
       "      <td>46.8+/-1.7</td>\n",
       "      <td>57.3+/-1.8</td>\n",
       "    </tr>\n",
       "    <tr>\n",
       "      <th>18</th>\n",
       "      <td>60.5447+/-0.0032</td>\n",
       "      <td>51.2+/-2.0</td>\n",
       "      <td>61.7+/-2.1</td>\n",
       "    </tr>\n",
       "    <tr>\n",
       "      <th>19</th>\n",
       "      <td>59.7584+/-0.0032</td>\n",
       "      <td>55.8+/-2.3</td>\n",
       "      <td>66.3+/-2.4</td>\n",
       "    </tr>\n",
       "  </tbody>\n",
       "</table>\n",
       "</div>"
      ],
      "text/plain": [
       "    unit-cell volume  pressure@300K pressure@2000K\n",
       "0     74.698+/-0.004        0.0+/-0   10.40+/-0.14\n",
       "1     73.912+/-0.004  1.729+/-0.033   12.14+/-0.15\n",
       "2     73.125+/-0.004    3.55+/-0.07   13.97+/-0.17\n",
       "3     72.339+/-0.004    5.47+/-0.11   15.90+/-0.20\n",
       "4     71.553+/-0.004    7.50+/-0.15   17.93+/-0.25\n",
       "5     70.767+/-0.004    9.64+/-0.20   20.07+/-0.30\n",
       "6     69.980+/-0.004   11.89+/-0.25   22.34+/-0.35\n",
       "7     69.194+/-0.004   14.27+/-0.32     24.7+/-0.4\n",
       "8     68.408+/-0.004     16.8+/-0.4     27.2+/-0.5\n",
       "9     67.621+/-0.004     19.4+/-0.5     29.9+/-0.6\n",
       "10    66.835+/-0.004     22.2+/-0.6     32.7+/-0.7\n",
       "11  66.0488+/-0.0035     25.2+/-0.7     35.7+/-0.8\n",
       "12  65.2625+/-0.0035     28.3+/-0.8     38.8+/-0.9\n",
       "13  64.4762+/-0.0035     31.6+/-0.9     42.1+/-1.1\n",
       "14  63.6899+/-0.0034     35.1+/-1.1     45.6+/-1.2\n",
       "15  62.9036+/-0.0034     38.8+/-1.3     49.3+/-1.4\n",
       "16  62.1173+/-0.0033     42.7+/-1.5     53.2+/-1.6\n",
       "17  61.3310+/-0.0033     46.8+/-1.7     57.3+/-1.8\n",
       "18  60.5447+/-0.0032     51.2+/-2.0     61.7+/-2.1\n",
       "19  59.7584+/-0.0032     55.8+/-2.3     66.3+/-2.4"
      ]
     },
     "execution_count": 36,
     "metadata": {},
     "output_type": "execute_result"
    }
   ],
   "source": [
    "df = pd.DataFrame()\n",
    "df['unit-cell volume'] = v\n",
    "df['pressure@300K'] = p\n",
    "df['pressure@2000K'] = p_hT\n",
    "df\n",
    "# print(df.to_string(index=False))"
   ]
  }
 ],
 "metadata": {
  "anaconda-cloud": {},
  "kernelspec": {
   "display_name": "Python 3",
   "language": "python",
   "name": "python3"
  },
  "language_info": {
   "codemirror_mode": {
    "name": "ipython",
    "version": 3
   },
   "file_extension": ".py",
   "mimetype": "text/x-python",
   "name": "python",
   "nbconvert_exporter": "python",
   "pygments_lexer": "ipython3",
   "version": "3.6.5"
  },
  "latex_envs": {
   "LaTeX_envs_menu_present": true,
   "autocomplete": true,
   "bibliofile": "biblio.bib",
   "cite_by": "apalike",
   "current_citInitial": 1,
   "eqLabelWithNumbers": true,
   "eqNumInitial": 0,
   "hotkeys": {
    "equation": "Ctrl-E",
    "itemize": "Ctrl-I"
   },
   "labels_anchors": false,
   "latex_user_defs": false,
   "report_style_numbering": false,
   "user_envs_cfg": false
  }
 },
 "nbformat": 4,
 "nbformat_minor": 2
}
